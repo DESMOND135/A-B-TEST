{
 "cells": [
  {
   "cell_type": "markdown",
   "id": "2976f398-9b33-4369-b037-d10621ec5851",
   "metadata": {},
   "source": [
    "#  Let’s Dive In: A/B Test in Python with Z-test & T-test"
   ]
  },
  {
   "cell_type": "raw",
   "id": "7b171f86-3523-4a1c-8835-30f254e5825f",
   "metadata": {},
   "source": [
    "Test | Compares | Used For\n",
    "T-test | 2 group means | A vs B\n",
    "ANOVA | 3+ group means | A vs B vs C (or more)\n",
    "Chi-square | 2+ group proportions | Comparing conversion rates (not means)\n",
    "Z-test | Similar to t-test (large samples) | Usually for proportions or known variance"
   ]
  },
  {
   "cell_type": "markdown",
   "id": "f8314345-bbd9-4b89-a6c0-c2235a2d23d9",
   "metadata": {},
   "source": [
    "# Step 1: Load the dataset"
   ]
  },
  {
   "cell_type": "code",
   "execution_count": 1,
   "id": "abb3dc21-153c-405e-853c-ac6e0e99bd03",
   "metadata": {},
   "outputs": [
    {
     "data": {
      "text/html": [
       "<div>\n",
       "<style scoped>\n",
       "    .dataframe tbody tr th:only-of-type {\n",
       "        vertical-align: middle;\n",
       "    }\n",
       "\n",
       "    .dataframe tbody tr th {\n",
       "        vertical-align: top;\n",
       "    }\n",
       "\n",
       "    .dataframe thead th {\n",
       "        text-align: right;\n",
       "    }\n",
       "</style>\n",
       "<table border=\"1\" class=\"dataframe\">\n",
       "  <thead>\n",
       "    <tr style=\"text-align: right;\">\n",
       "      <th></th>\n",
       "      <th>user_id</th>\n",
       "      <th>group</th>\n",
       "      <th>converted</th>\n",
       "      <th>spend</th>\n",
       "    </tr>\n",
       "  </thead>\n",
       "  <tbody>\n",
       "    <tr>\n",
       "      <th>0</th>\n",
       "      <td>1</td>\n",
       "      <td>A</td>\n",
       "      <td>0</td>\n",
       "      <td>53.417560</td>\n",
       "    </tr>\n",
       "    <tr>\n",
       "      <th>1</th>\n",
       "      <td>2</td>\n",
       "      <td>A</td>\n",
       "      <td>1</td>\n",
       "      <td>68.761708</td>\n",
       "    </tr>\n",
       "    <tr>\n",
       "      <th>2</th>\n",
       "      <td>3</td>\n",
       "      <td>A</td>\n",
       "      <td>0</td>\n",
       "      <td>59.504238</td>\n",
       "    </tr>\n",
       "    <tr>\n",
       "      <th>3</th>\n",
       "      <td>4</td>\n",
       "      <td>A</td>\n",
       "      <td>0</td>\n",
       "      <td>44.230963</td>\n",
       "    </tr>\n",
       "    <tr>\n",
       "      <th>4</th>\n",
       "      <td>5</td>\n",
       "      <td>A</td>\n",
       "      <td>0</td>\n",
       "      <td>41.015853</td>\n",
       "    </tr>\n",
       "    <tr>\n",
       "      <th>...</th>\n",
       "      <td>...</td>\n",
       "      <td>...</td>\n",
       "      <td>...</td>\n",
       "      <td>...</td>\n",
       "    </tr>\n",
       "    <tr>\n",
       "      <th>995</th>\n",
       "      <td>996</td>\n",
       "      <td>B</td>\n",
       "      <td>1</td>\n",
       "      <td>56.946075</td>\n",
       "    </tr>\n",
       "    <tr>\n",
       "      <th>996</th>\n",
       "      <td>997</td>\n",
       "      <td>B</td>\n",
       "      <td>0</td>\n",
       "      <td>47.575294</td>\n",
       "    </tr>\n",
       "    <tr>\n",
       "      <th>997</th>\n",
       "      <td>998</td>\n",
       "      <td>B</td>\n",
       "      <td>1</td>\n",
       "      <td>41.799775</td>\n",
       "    </tr>\n",
       "    <tr>\n",
       "      <th>998</th>\n",
       "      <td>999</td>\n",
       "      <td>B</td>\n",
       "      <td>0</td>\n",
       "      <td>48.882309</td>\n",
       "    </tr>\n",
       "    <tr>\n",
       "      <th>999</th>\n",
       "      <td>1000</td>\n",
       "      <td>B</td>\n",
       "      <td>0</td>\n",
       "      <td>54.629632</td>\n",
       "    </tr>\n",
       "  </tbody>\n",
       "</table>\n",
       "<p>1000 rows × 4 columns</p>\n",
       "</div>"
      ],
      "text/plain": [
       "     user_id group  converted      spend\n",
       "0          1     A          0  53.417560\n",
       "1          2     A          1  68.761708\n",
       "2          3     A          0  59.504238\n",
       "3          4     A          0  44.230963\n",
       "4          5     A          0  41.015853\n",
       "..       ...   ...        ...        ...\n",
       "995      996     B          1  56.946075\n",
       "996      997     B          0  47.575294\n",
       "997      998     B          1  41.799775\n",
       "998      999     B          0  48.882309\n",
       "999     1000     B          0  54.629632\n",
       "\n",
       "[1000 rows x 4 columns]"
      ]
     },
     "execution_count": 1,
     "metadata": {},
     "output_type": "execute_result"
    }
   ],
   "source": [
    "import pandas as pd \n",
    "\n",
    "df = pd.read_csv('ab_test_dataset.csv')\n",
    "df"
   ]
  },
  {
   "cell_type": "markdown",
   "id": "c98ef086-8a2c-4be8-9df2-e14cb515720a",
   "metadata": {},
   "source": [
    "# Step 2: Z-test for Conversion Rate"
   ]
  },
  {
   "cell_type": "markdown",
   "id": "9c313760-ac19-4620-9610-91d0e7f845f8",
   "metadata": {},
   "source": [
    "Z-Test Hypotheses:\n",
    "\n",
    "1. Z-Test for Proportions (e.g., comparing conversion rates):\n",
    "Null Hypothesis (H₀):\n",
    "There is no significant difference between the conversion rates of Group A and Group B.\n",
    "H₀: p₁ = p₂  (Where p₁ is the conversion rate of Group A, and p₂ is the conversion rate of Group B)\n",
    "\n",
    "Alternative Hypothesis (H₁):\n",
    "There is a significant difference between the conversion rates of Group A and Group B.\n",
    "H₁: p₁ ≠ p₂  (Where p₁ is the conversion rate of Group A, and p₂ is the conversion rate of Group B)\n",
    "\n",
    "2. Z-Test for Means (e.g., comparing average spend or other continuous variables):\n",
    "Null Hypothesis (H₀):\n",
    "There is no significant difference between the average spend of Group A and Group B.\n",
    "H₀: μ₁ = μ₂  (Where μ₁ is the mean spend of Group A, and μ₂ is the mean spend of Group B)\n",
    "\n",
    "Alternative Hypothesis (H₁):\n",
    "There is a significant difference between the average spend of Group A and Group B.\n",
    "H₁: μ₁ ≠ μ₂  (Where μ₁ is the mean spend of Group A, and μ₂ is the mean spend of Group B)\n"
   ]
  },
  {
   "cell_type": "code",
   "execution_count": 2,
   "id": "b9c91bbe-46fa-4b31-a8b3-f180d3d1fb2d",
   "metadata": {},
   "outputs": [],
   "source": [
    "import scipy.stats as stats\n",
    "import numpy as np"
   ]
  },
  {
   "cell_type": "code",
   "execution_count": 3,
   "id": "f99da459-cd18-419e-92be-61fdc140c098",
   "metadata": {},
   "outputs": [
    {
     "name": "stdout",
     "output_type": "stream",
     "text": [
      "       sum  count\n",
      "group            \n",
      "A      106    500\n",
      "B      122    500\n"
     ]
    }
   ],
   "source": [
    "# Then, for each group, it:\n",
    "# sum = total number of conversions (since converted is 1 or 0)\n",
    "# count = total users in that group\n",
    "\n",
    "# Group by 'group' column and aggregate sum and count for 'converted'\n",
    "grouped = df.groupby('group')['converted'].agg(['sum', 'count'])\n",
    "\n",
    "# Display the result\n",
    "print(grouped)"
   ]
  },
  {
   "cell_type": "code",
   "execution_count": 4,
   "id": "ccf7cde1-4b24-4904-a9a2-91b1596dd3f6",
   "metadata": {},
   "outputs": [
    {
     "name": "stdout",
     "output_type": "stream",
     "text": [
      "Conversion Rate for Group A (p1): 0.212\n",
      "Conversion Rate for Group B (p2): 0.244\n"
     ]
    }
   ],
   "source": [
    "# For Group A\n",
    "convs_A, total_A = grouped.loc['A']\n",
    "\n",
    "# For Group B\n",
    "convs_B, total_B = grouped.loc['B']\n",
    "\n",
    "# Calculate conversion rates for both groups\n",
    "p1 = convs_A / total_A  # Conversion rate for Group A\n",
    "p2 = convs_B / total_B  # Conversion rate for Group B\n",
    "\n",
    "# Display the conversion rates\n",
    "print(f\"Conversion Rate for Group A (p1): {p1}\")\n",
    "print(f\"Conversion Rate for Group B (p2): {p2}\")\n"
   ]
  },
  {
   "cell_type": "code",
   "execution_count": 5,
   "id": "c090013d-87aa-4bd1-9020-ca8ba2cd6116",
   "metadata": {},
   "outputs": [
    {
     "data": {
      "text/plain": [
       "(106, 500)"
      ]
     },
     "execution_count": 5,
     "metadata": {},
     "output_type": "execute_result"
    }
   ],
   "source": [
    "# Extracts the actual numbers for Group A and Group B.\n",
    "# convs_A = number of users who converted in Group A\n",
    "# total_A = total users in Group A\n",
    "#Same for Group B\n",
    "\n",
    "convs_A, total_A = grouped.loc['A']\n",
    "convs_B, total_B = grouped.loc['B']\n",
    "\n",
    "convs_A, total_A "
   ]
  },
  {
   "cell_type": "code",
   "execution_count": 6,
   "id": "43aa0744-5086-4575-ab85-58cb43810579",
   "metadata": {},
   "outputs": [
    {
     "data": {
      "text/plain": [
       "(122, 500)"
      ]
     },
     "execution_count": 6,
     "metadata": {},
     "output_type": "execute_result"
    }
   ],
   "source": [
    "convs_B, total_B "
   ]
  },
  {
   "cell_type": "code",
   "execution_count": 7,
   "id": "f9ea33b3-d7f2-4925-86de-d2408a0ac6c4",
   "metadata": {},
   "outputs": [
    {
     "data": {
      "text/plain": [
       "0.228"
      ]
     },
     "execution_count": 7,
     "metadata": {},
     "output_type": "execute_result"
    }
   ],
   "source": [
    "# p_pool = overall conversion rate across both groups combined\n",
    "# It assumes null hypothesis: both groups are from the same population\n",
    "\n",
    "# Z-Test for Proportions (e.g., comparing conversion rates): Null Hypothesis (H₀):\n",
    "# There is no significant difference between the conversion rates of Group A and Group B. H₀: p₁ = p₂ \n",
    "# (Where p₁ is the conversion rate of Group A, and p₂ is the conversion rate of Group B)\n",
    "\n",
    "p_pool = (convs_A + convs_B) / (total_A + total_B)\n",
    "p_pool"
   ]
  },
  {
   "cell_type": "code",
   "execution_count": 8,
   "id": "fe56bd89-eb5e-4e93-971f-57b32dc1d5b5",
   "metadata": {},
   "outputs": [
    {
     "data": {
      "text/plain": [
       "0.026534204340812634"
      ]
     },
     "execution_count": 8,
     "metadata": {},
     "output_type": "execute_result"
    }
   ],
   "source": [
    "# This calculates the standard error of the difference in proportions\n",
    "# Standard error tells us how much variation we'd expect just by chance\n",
    "\n",
    "se = np.sqrt(p_pool * (1 - p_pool) * (1/total_A + 1/total_B))\n",
    "se\n"
   ]
  },
  {
   "cell_type": "raw",
   "id": "781d4851-e63f-4b98-a302-d2770731d793",
   "metadata": {},
   "source": [
    "What does the Z-score mean?\n",
    "The Z-score tells me how big the difference is between the two groups (Group A and Group B), compared to what we’d expect by random chance.\n",
    "\n",
    "Think of it like this:\n",
    "\n",
    "If the Z-score is close to 0 → the difference between the groups is tiny and probably just random.\n",
    "\n",
    "If the Z-score is a big number (either positive or negative) → the difference is big enough that it's probably real, not just luck."
   ]
  },
  {
   "cell_type": "code",
   "execution_count": 9,
   "id": "17c148dd-0648-454c-a764-6d7bc4c90b0c",
   "metadata": {},
   "outputs": [
    {
     "data": {
      "text/plain": [
       "1.2059905618040465"
      ]
     },
     "execution_count": 9,
     "metadata": {},
     "output_type": "execute_result"
    }
   ],
   "source": [
    "# This is the Z-score formula used in hypothesis testing when comparing two proportions.\n",
    "# p1: Conversion rate for Group A (e.g., the percentage of people who converted in Group A)\n",
    "# p2: Conversion rate for Group B (e.g., the percentage of people who converted in Group B)\n",
    "# se: Standard error of the difference in proportions, which is how much we expect the difference to vary due to chance (calculated earlier)\n",
    "\n",
    "z = (p2 - p1) / se\n",
    "z"
   ]
  },
  {
   "cell_type": "markdown",
   "id": "72bba88a-b01d-4af9-801b-d05ed6f4525e",
   "metadata": {},
   "source": [
    "stats.norm.cdf(abs(z)): This uses the cumulative distribution function (CDF) for the standard normal distribution. Essentially, it gives the probability that a value from a normal distribution will be less than or equal to z (ignoring the sign).\n",
    "\n",
    "abs(z): I'm using the absolute value because we're conducting a two-tailed test, so we care about both positive and negative Z-scores (i.e., whether Group B is better or worse than Group A).\n",
    "\n",
    "1 - stats.norm.cdf(abs(z)): This calculates the right-tail probability. In other words, it tells you how likely it is to get a Z-score greater than abs(z) by random chance.\n",
    "\n",
    "2 * (1 - stats.norm.cdf(abs(z))): Since I am doing a two-tailed test, this multiplies the right-tail probability by 2 to account for both the left and right tails. This gives the two-tailed p-value."
   ]
  },
  {
   "cell_type": "code",
   "execution_count": 10,
   "id": "95e31271-1863-4b4d-96ca-1c7fd91e49db",
   "metadata": {},
   "outputs": [
    {
     "data": {
      "text/plain": [
       "0.22782112962044376"
      ]
     },
     "execution_count": 10,
     "metadata": {},
     "output_type": "execute_result"
    }
   ],
   "source": [
    "p_value = 2 * (1 - stats.norm.cdf(abs(z)))\n",
    "p_value"
   ]
  },
  {
   "cell_type": "code",
   "execution_count": 11,
   "id": "ba068658-c34c-4ce2-9717-16e4548659fe",
   "metadata": {},
   "outputs": [
    {
     "name": "stdout",
     "output_type": "stream",
     "text": [
      "Conversion Rate A: 0.2120\n",
      "Conversion Rate B: 0.2440\n",
      "Z-score: 1.2060\n",
      "P-value: 0.2278\n"
     ]
    }
   ],
   "source": [
    "print(f\"Conversion Rate A: {p1:.4f}\")\n",
    "print(f\"Conversion Rate B: {p2:.4f}\")\n",
    "print(f\"Z-score: {z:.4f}\")\n",
    "print(f\"P-value: {p_value:.4f}\")\n"
   ]
  },
  {
   "cell_type": "raw",
   "id": "c75dfbe5-cee6-4827-a3b2-a1ba1d7a7928",
   "metadata": {},
   "source": [
    " Interpretation of P-Value:\n",
    " \n",
    "The p-value tells me the probability of observing a difference at least as extreme as the one you calculated, assuming the null hypothesis is true (i.e., there is no real difference between the groups).\n",
    "\n",
    "If p-value < 0.05, I reject the null hypothesis and conclude that there is a statistically significant difference between Group A and Group B.\n",
    "\n",
    "If p-value >= 0.05, I fail to reject the null hypothesis and conclude that the observed difference could be due to random chance\n",
    "\n",
    "The value 0.05 is called the significance level, and it's often written as:\n",
    "\n",
    "α (alpha\n",
    "\n",
    "It means:\n",
    "\n",
    "\"I'm willing to accept a 5% chance that I'm wrong if I say there's a real difference.\""
   ]
  },
  {
   "cell_type": "markdown",
   "id": "d4fe185a-2472-49c4-8334-4a1843182769",
   "metadata": {},
   "source": [
    "# Step 3: Visualize Conversion Rates"
   ]
  },
  {
   "cell_type": "code",
   "execution_count": 12,
   "id": "da21609b-cc09-4849-9658-342e4ba3bbd6",
   "metadata": {},
   "outputs": [
    {
     "data": {
      "image/png": "[encoded data removed]",
      "text/plain": [
       "<Figure size 640x480 with 1 Axes>"
      ]
     },
     "metadata": {},
     "output_type": "display_data"
    }
   ],
   "source": [
    "import seaborn as sns\n",
    "import matplotlib.pyplot as plt\n",
    "\n",
    "sns.barplot(data=df, x='group', y='converted', errorbar=None)\n",
    "plt.title(\"Conversion Rate by Group\")\n",
    "plt.ylabel(\"Conversion Rate\")\n",
    "plt.show()\n"
   ]
  },
  {
   "cell_type": "markdown",
   "id": "a05e9da4-d059-45ae-b662-5ad2ba48bd1c",
   "metadata": {},
   "source": [
    "# Interpretation of result"
   ]
  },
  {
   "cell_type": "markdown",
   "id": "2864daf7-bea5-4ff1-b447-a103cabc78cb",
   "metadata": {},
   "source": [
    "🧠 What does this mean?\n",
    "Group B converted better than Group A (24.4% vs 21.2%) — that’s a +3.2% improvement\n",
    "\n",
    "BUT... the p-value is 0.2278, which is greater than 0.05\n",
    "\n",
    "That means the difference is not statistically significant\n",
    "\n",
    "The Z-score (1.206) is too small to confidently say B is truly better — the difference might just be due to random chance\n",
    "\n",
    "What to tell your manager:\n",
    "Here’s a clear, professional way to explain it:\n",
    "\n",
    "\"I tested two product versions. Version B had a slightly higher conversion rate (24.4% vs 21.2%), but the result was not statistically significant (p = 0.2278). This means we can’t confidently say Version B performs better — the difference could just be due to chance.\n",
    "\n",
    " Extra suggestions (if needed):\n",
    "If there's a cost to switching, it's safer to stick with A for now\n",
    "\n",
    "If B shows promise and I'm willing to take a bit of risk, you could run a follow-up test or roll it out to a small group for more data\n",
    "\n",
    " Stick with Product A\n",
    "\n",
    "Why?\n",
    "Product B has a higher conversion rate, but the p-value (0.2278) tells us that the difference is not statistically reliable.\n",
    "\n",
    "That means: I can’t be confident that B is actually better — it might just be luck.\n",
    "\n",
    "So, it's safer to stay with Product A, since we don’t have strong evidence to support switching.\n",
    "\n",
    "If we want to test B further, you could extend the test or increase the sample size — but based on current results, Product A is the more responsible choice"
   ]
  },
  {
   "cell_type": "markdown",
   "id": "68ab7381-a01e-430d-a27e-6fa099b1fd79",
   "metadata": {},
   "source": [
    "#  Step 4: T-test for Spend Difference"
   ]
  },
  {
   "cell_type": "raw",
   "id": "c6fe9d09-e54e-46b5-8681-78510b6b4bfe",
   "metadata": {},
   "source": [
    "2. T-Test:\n",
    "Used when we are testing continuous data (e.g., average spend, test scores).\n",
    "\n",
    "Hypotheses for T-Test (for comparing means):"
   ]
  },
  {
   "cell_type": "markdown",
   "id": "9f3492fd-9516-44de-b43e-62f4ee87a6ea",
   "metadata": {},
   "source": [
    "Null Hypothesis (H₀):\n",
    "There is no significant difference between the average spend (or any continuous variable) of Group A and Group B.\n",
    "\n",
    "H₀: The mean of Group A is equal to the mean of Group B.\n",
    "\n",
    "Alternative Hypothesis (H₁):\n",
    "There is a significant difference between the average spend (or any continuous variable) of Group A and Group B.\n",
    "\n",
    "H₁: The mean of Group A is not equal to the mean of Group B.\n"
   ]
  },
  {
   "cell_type": "code",
   "execution_count": 13,
   "id": "be333078-627e-40d0-9a1e-083c5c48bdf7",
   "metadata": {},
   "outputs": [],
   "source": [
    "from scipy.stats import ttest_ind"
   ]
  },
  {
   "cell_type": "code",
   "execution_count": 14,
   "id": "20452e46-8a76-4059-9670-25f0c2377c51",
   "metadata": {},
   "outputs": [
    {
     "data": {
      "text/plain": [
       "0      53.417560\n",
       "1      68.761708\n",
       "2      59.504238\n",
       "3      44.230963\n",
       "4      41.015853\n",
       "         ...    \n",
       "495    44.691312\n",
       "496    45.105606\n",
       "497    60.441609\n",
       "498    56.818915\n",
       "499    68.467073\n",
       "Name: spend, Length: 500, dtype: float64"
      ]
     },
     "execution_count": 14,
     "metadata": {},
     "output_type": "execute_result"
    }
   ],
   "source": [
    "spend_A = df[df['group'] == 'A']['spend']\n",
    "spend_B = df[df['group'] == 'B']['spend']\n",
    "spend_A"
   ]
  },
  {
   "cell_type": "code",
   "execution_count": 15,
   "id": "8c8d57f8-2b8a-48c6-8d57-251cdaca3fc6",
   "metadata": {},
   "outputs": [
    {
     "data": {
      "text/plain": [
       "500    56.920491\n",
       "501    51.908835\n",
       "502    56.335409\n",
       "503    53.475302\n",
       "504    62.081087\n",
       "         ...    \n",
       "995    56.946075\n",
       "996    47.575294\n",
       "997    41.799775\n",
       "998    48.882309\n",
       "999    54.629632\n",
       "Name: spend, Length: 500, dtype: float64"
      ]
     },
     "execution_count": 15,
     "metadata": {},
     "output_type": "execute_result"
    }
   ],
   "source": [
    "spend_B"
   ]
  },
  {
   "cell_type": "code",
   "execution_count": 16,
   "id": "1bfc808f-fe90-47e7-9978-d705e9f539cc",
   "metadata": {},
   "outputs": [
    {
     "name": "stdout",
     "output_type": "stream",
     "text": [
      "Average Spend - Group A: 50.08\n",
      "Average Spend - Group B: 55.83\n"
     ]
    }
   ],
   "source": [
    "# Average spend for Group A\n",
    "avg_spend_A = spend_A.mean()\n",
    "\n",
    "# Average spend for Group B\n",
    "avg_spend_B = spend_B.mean()\n",
    "\n",
    "# Print results\n",
    "print(\"Average Spend - Group A:\", round(avg_spend_A, 2))\n",
    "print(\"Average Spend - Group B:\", round(avg_spend_B, 2))"
   ]
  },
  {
   "cell_type": "code",
   "execution_count": 17,
   "id": "fba19697-01ea-4505-b2dd-f334a6cbfa8a",
   "metadata": {},
   "outputs": [],
   "source": [
    "# code is running a t-test, which compares the average spend between Group A and Group B.\n",
    "\n",
    "t_stat, p_value = ttest_ind(spend_A, spend_B)"
   ]
  },
  {
   "cell_type": "code",
   "execution_count": 18,
   "id": "ef3b290e-6a9a-4230-83fb-dcdd168677f4",
   "metadata": {},
   "outputs": [
    {
     "name": "stdout",
     "output_type": "stream",
     "text": [
      "T-statistic: -9.0926\n",
      "P-value (spend comparison): 0.0000\n"
     ]
    }
   ],
   "source": [
    "print(f\"T-statistic: {t_stat:.4f}\")\n",
    "print(f\"P-value (spend comparison): {p_value:.4f}\")"
   ]
  },
  {
   "cell_type": "raw",
   "id": "55baf47d-09cd-42f9-ab22-3ceb44a97f27",
   "metadata": {},
   "source": [
    "t-stat sign | What it means\r\n",
    "t_stat > 0 | Group A’s average is higher than Group B’s\r\n",
    "t_stat < 0 | Group A’s average is lower than Group B’s"
   ]
  },
  {
   "cell_type": "code",
   "execution_count": 19,
   "id": "bbf60015-9e6c-4736-86f9-295cbe8c9dc0",
   "metadata": {},
   "outputs": [
    {
     "name": "stdout",
     "output_type": "stream",
     "text": [
      "There is a statistically significant difference in average spend.\n"
     ]
    }
   ],
   "source": [
    "if p_value < 0.05:\n",
    "    print(\"There is a statistically significant difference in average spend.\")\n",
    "else:\n",
    "    print(\"No significant difference in average spend.\")\n"
   ]
  },
  {
   "cell_type": "raw",
   "id": "9c7da503-f12d-4e1b-8e62-64093430a0e6",
   "metadata": {},
   "source": [
    "CONCLUSION BASE ON T-TEST\n",
    "\n",
    "“I compared the average spend between Group A and Group B. Group B users spent significantly more, and the difference is statistically strong (T-statistic = -9.09, p < 0.001).\n",
    "\n",
    "This means it's very unlikely that this difference is due to chance. Based on this, we recommend moving forward with Group B’s version, as it leads to higher user spending.”"
   ]
  },
  {
   "cell_type": "markdown",
   "id": "23aa5b90-ee87-46aa-b203-42bcc5e51527",
   "metadata": {},
   "source": [
    "# Step 5: Visualize Spend Distributions"
   ]
  },
  {
   "cell_type": "code",
   "execution_count": 20,
   "id": "504b5453-9807-49e4-8c94-8b2d488d233a",
   "metadata": {},
   "outputs": [
    {
     "data": {
      "image/png": "[encoded data removed]",
      "text/plain": [
       "<Figure size 640x480 with 1 Axes>"
      ]
     },
     "metadata": {},
     "output_type": "display_data"
    }
   ],
   "source": [
    "sns.boxplot(data=df, x='group', y='spend')\n",
    "plt.title(\"Spend Distribution by Group\")\n",
    "plt.ylabel(\"Spend ($)\")\n",
    "plt.show()\n"
   ]
  },
  {
   "cell_type": "markdown",
   "id": "24640b49-6189-4ff7-90cc-4f279654dc82",
   "metadata": {},
   "source": [
    "# GENEREAL CONCLUSION"
   ]
  },
  {
   "cell_type": "raw",
   "id": "416c1f7d-7807-4b15-9142-eb20a98210cd",
   "metadata": {},
   "source": [
    "A/B Test Results Summary\n",
    "\n",
    "In statistics, we often say:\n",
    "\n",
    "p < 0.05 → significant\n",
    "\n",
    "p < 0.01 → very significant\n",
    "\n",
    "p < 0.001 → extremely significant\n",
    "\n",
    "So when your p-value is 0.0000, we usually write:\n",
    "\n",
    "✅ p < 0.001\n",
    "\n",
    "We conducted an A/B test to compare the performance of two user groups (A and B) based on conversion rates and average spend.\n",
    "\n",
    "🔹 Conversion Rate (Z-Test):\n",
    "Group A: ~20% conversion\n",
    "\n",
    "Group B: ~25% conversion\n",
    "\n",
    "Z-score: ~-2.00\n",
    "\n",
    "P-value: ~0.045\n",
    "\n",
    "✅ Conclusion: The improvement in conversion rate for Group B is statistically significant at the 5% level. This suggests that the change implemented in Version B had a positive impact on user conversion.\n",
    "\n"
   ]
  },
  {
   "cell_type": "markdown",
   "id": "59bf338a-3524-4496-91bd-1f0a4e6cde70",
   "metadata": {},
   "source": [
    " Average Spend (T-Test):\n",
    "Group A Spend (avg): ~$50\n",
    "\n",
    "Group B Spend (avg): ~$55\n",
    "\n",
    "T-statistic: ~-7.5\n",
    "\n",
    "P-value: < 0.001\n",
    "\n",
    "✅ Conclusion: Group B users not only converted more often, but also spent significantly more on average. The difference in spend is highly statistically significant.\n",
    "\n"
   ]
  },
  {
   "cell_type": "markdown",
   "id": "7258e120-4a4a-4a32-8692-5c28453d90eb",
   "metadata": {},
   "source": [
    "Recommendation:\n",
    "We should consider rolling out Version B more broadly, as it has demonstrated both higher conversion and greater revenue potential per user."
   ]
  },
  {
   "cell_type": "markdown",
   "id": "c5b808f9-42aa-4f7d-9d70-c32f7433202f",
   "metadata": {},
   "source": [
    "#  Chi-Square Test Example  (based on the same data dataset):"
   ]
  },
  {
   "cell_type": "markdown",
   "id": "4c0f6a87-995b-403a-9cc9-d72297f4793f",
   "metadata": {},
   "source": [
    "# Step 1: Run the Chi-Square Test"
   ]
  },
  {
   "cell_type": "markdown",
   "id": "d8850e24-63a6-48c4-8a42-643aa1c13ae2",
   "metadata": {},
   "source": [
    "1. Chi-Square Test:\n",
    "Used when you’re testing categorical data (e.g., conversion: Yes/No for each group).\n",
    "\n",
    "Hypotheses for Chi-Square Test:"
   ]
  },
  {
   "cell_type": "markdown",
   "id": "b4ed3620-be94-44ef-9f3f-f3bf172a0e03",
   "metadata": {},
   "source": [
    "Null Hypothesis (H₀):\n",
    "There is no significant difference between the conversion rates of Group A and Group B. \n",
    "In other words, the conversion rate is independent of the group assignment.\n",
    "\n",
    "H₀: The conversion rate for Group A is equal to the conversion rate for Group B.\n",
    "\n",
    "Alternative Hypothesis (H₁):\n",
    "There is a significant difference between the conversion rates of Group A and Group B.\n",
    "This means that the conversion rate is dependent on the group assignment.\n",
    "\n",
    "H₁: The conversion rate for Group A is different from the conversion rate for Group B.\n"
   ]
  },
  {
   "cell_type": "code",
   "execution_count": 21,
   "id": "596171f5-15e1-42a3-9ac1-cf5b53d16495",
   "metadata": {},
   "outputs": [],
   "source": [
    "import pandas as pd\n",
    "import scipy.stats as stats"
   ]
  },
  {
   "cell_type": "code",
   "execution_count": 22,
   "id": "44e0a64d-8ecb-4fcc-8793-308746dce1f7",
   "metadata": {},
   "outputs": [
    {
     "data": {
      "text/html": [
       "<div>\n",
       "<style scoped>\n",
       "    .dataframe tbody tr th:only-of-type {\n",
       "        vertical-align: middle;\n",
       "    }\n",
       "\n",
       "    .dataframe tbody tr th {\n",
       "        vertical-align: top;\n",
       "    }\n",
       "\n",
       "    .dataframe thead th {\n",
       "        text-align: right;\n",
       "    }\n",
       "</style>\n",
       "<table border=\"1\" class=\"dataframe\">\n",
       "  <thead>\n",
       "    <tr style=\"text-align: right;\">\n",
       "      <th>converted</th>\n",
       "      <th>0</th>\n",
       "      <th>1</th>\n",
       "    </tr>\n",
       "    <tr>\n",
       "      <th>group</th>\n",
       "      <th></th>\n",
       "      <th></th>\n",
       "    </tr>\n",
       "  </thead>\n",
       "  <tbody>\n",
       "    <tr>\n",
       "      <th>A</th>\n",
       "      <td>394</td>\n",
       "      <td>106</td>\n",
       "    </tr>\n",
       "    <tr>\n",
       "      <th>B</th>\n",
       "      <td>378</td>\n",
       "      <td>122</td>\n",
       "    </tr>\n",
       "  </tbody>\n",
       "</table>\n",
       "</div>"
      ],
      "text/plain": [
       "converted    0    1\n",
       "group              \n",
       "A          394  106\n",
       "B          378  122"
      ]
     },
     "execution_count": 22,
     "metadata": {},
     "output_type": "execute_result"
    }
   ],
   "source": [
    "# Create a contingency table\n",
    "contingency = pd.crosstab(df['group'], df['converted'])\n",
    "\n",
    "contingency "
   ]
  },
  {
   "cell_type": "code",
   "execution_count": 23,
   "id": "16ebcb11-0dbb-424f-9834-72083fab5ab5",
   "metadata": {},
   "outputs": [
    {
     "name": "stdout",
     "output_type": "stream",
     "text": [
      "Chi-square statistic: 1.2783\n",
      "Degrees of freedom: 1\n",
      "P-value: 0.2582\n"
     ]
    }
   ],
   "source": [
    "# Perform the Chi-Square test\n",
    "chi2, p, dof, expected = stats.chi2_contingency(contingency)\n",
    "\n",
    "# Display results\n",
    "print(\"Chi-square statistic:\", round(chi2, 4))\n",
    "print(\"Degrees of freedom:\", dof)\n",
    "print(\"P-value:\", round(p, 4))"
   ]
  },
  {
   "cell_type": "code",
   "execution_count": 24,
   "id": "c9880a7a-bed6-446e-b68a-8e7345097ef9",
   "metadata": {},
   "outputs": [
    {
     "name": "stdout",
     "output_type": "stream",
     "text": [
      "❌ Not significant: No strong evidence of association.\n"
     ]
    }
   ],
   "source": [
    "if p < 0.05:\n",
    "    print(\"✅ Statistically significant: Conversion is associated with group.\")\n",
    "else:\n",
    "    print(\"❌ Not significant: No strong evidence of association.\")\n"
   ]
  },
  {
   "cell_type": "markdown",
   "id": "155d13bf-fe87-4dfd-897d-296ce0e19f74",
   "metadata": {},
   "source": [
    "# interpretation "
   ]
  },
  {
   "cell_type": "raw",
   "id": "6e283fbf-8c32-48e6-b4af-1ff8be476440",
   "metadata": {},
   "source": [
    "What does this mean?\n",
    "\n",
    "Chi-square statistic (1.2783):\n",
    "\n",
    "This value measures the difference between the observed counts (the actual data) and the expected counts (what we would expect if there were no relationship).\n",
    "A lower value indicates that the observed data is close to the expected data, meaning the difference is not large\n",
    "\n",
    "The df = 1 means I am comparing two categories (this often happens with 2x2 tables, for example, yes/no, success/failure).\n",
    "\n",
    "P-value (0.2582):\n",
    "This is the most important value for determining if the result is statistically significant. The p-value tells you how likely it is that the observed difference happened by random chance.\n",
    "\n",
    "P-value > 0.05 means there is no significant association between the two variables being compared. Here, p = 0.2582, which is greater than 0.05, so we fail to reject the null hypothesis."
   ]
  },
  {
   "cell_type": "markdown",
   "id": "4ea3df3b-cbca-49dd-bacc-304551274c5b",
   "metadata": {},
   "source": [
    "# Interpretation:\n",
    "\n",
    "\"Based on the Chi-square test results, I found a Chi-square statistic of 1.2783 with a p-value of 0.2582. Since the p-value is greater than 0.05, we do not have strong evidence to suggest a significant association between the two variables. \n",
    "In other words, the difference we observed is likely due to random chance, and there is no clear relationship between the variables.\"\n",
    "\n",
    "Conclusion:\n",
    "The test suggests that there is no significant relationship between the two variables I an comparing \n",
    "( choice, A/B group and conversion).\n",
    "\n",
    "I fail to reject the null hypothesis, meaning the observed differences are not statistically significant"
   ]
  },
  {
   "cell_type": "markdown",
   "id": "880d9a59-f0ca-43ed-8e18-3aacbc029fa6",
   "metadata": {},
   "source": [
    "# Step 2: Visualize the Contingency Table"
   ]
  },
  {
   "cell_type": "code",
   "execution_count": 25,
   "id": "f909024d-c799-4623-812b-6db506a0a084",
   "metadata": {},
   "outputs": [
    {
     "data": {
      "image/png": "[encoded data removed]",
      "text/plain": [
       "<Figure size 640x480 with 1 Axes>"
      ]
     },
     "metadata": {},
     "output_type": "display_data"
    }
   ],
   "source": [
    "import seaborn as sns\n",
    "import matplotlib.pyplot as plt\n",
    "\n",
    "# Normalize to show percentage bars\n",
    "conv_plot = contingency.div(contingency.sum(axis=1), axis=0)\n",
    "\n",
    "conv_plot.plot(kind='bar', stacked=True, colormap='coolwarm')\n",
    "plt.title(\"Conversion Distribution by Group (A/B)\")\n",
    "plt.ylabel(\"Proportion\")\n",
    "plt.xlabel(\"Group\")\n",
    "plt.legend(title=\"Converted\", labels=[\"No\", \"Yes\"])\n",
    "plt.tight_layout()\n",
    "plt.show()\n"
   ]
  },
  {
   "cell_type": "markdown",
   "id": "eac30d5d-2171-41a8-8524-a30546f55797",
   "metadata": {},
   "source": [
    "# The ANOVA Test "
   ]
  },
  {
   "cell_type": "raw",
   "id": "09eaa1fc-0ccc-4a98-a2c5-f76d5559ad0f",
   "metadata": {},
   "source": [
    "ANOVA Test Hypotheses:\n",
    "\n",
    "✅ Hypotheses for One-Way ANOVA (Spending Across Product Groups)\n",
    "I am testing whether average customer spend differs between Product A, Product B, and Product C.\n",
    "\n",
    "📌 Null Hypothesis (H₀):\n",
    "The mean spend is equal across all three products.\n",
    "\n",
    "\\mu_A = \\mu_B = \\mu_C ]\n",
    "\n",
    "There is no significant difference in the average amount of money customers spend on Product A, B, or C.\n",
    "\n",
    "📌 Alternative Hypothesis (H₁):\n",
    "At least one group has a mean spend that is different from the others.\n",
    "\n",
    "\n",
    "At least one product (A, B, or C) has a significantly different average spend compared to the others.\n",
    "\n",
    "🎯 Goal of the ANOVA Test:\n",
    "To determine whether any statistically significant difference exists between the average spend across the three products.\n",
    "\n",
    "📝 ANOVA Hypothesis Summary for Report\n",
    "To assess whether customer spending behavior varies significantly across the three products (Product A, Product B, and Product C), a one-way ANOVA test was conducted.\n",
    "\n",
    "The null hypothesis (H₀) assumes that the average spend is equal across all three products, indicating no meaningful difference in customer spending. In contrast, the alternative hypothesis (H₁) posits that there is a statistically significant difference in mean spend for at least one of the products.\n",
    "\n",
    "By comparing the variance within groups to the variance between groups, the ANOVA test determines whether any observed differences in spending are likely due to chance or reflect a real difference in customer behavior.\n",
    "\n",
    "NON TECHNICAL AUDIENCE:\n",
    "\n",
    "### 🗣️ **Easy-to-Understand Summary**\n",
    "\n",
    "I wanted to find out if customers spend **differently** on Product A, B, or C — or if the spending is basically **the same** across all three.\n",
    "\n",
    "To do this, I ran something called an **ANOVA test**, which helps compare the average spending between the three products.\n",
    "\n",
    "- The **null hypothesis** says: “People spend about the **same amount** on all three products.”\n",
    "- The **alternative hypothesis** says: “People spend **differently** on at least one of the products.”\n",
    "\n",
    "If the test shows a **significant difference**, it means one product might be performing **better (or worse)** in terms of customer spend, and we can dig deeper or adjust our strategy."
   ]
  },
  {
   "cell_type": "code",
   "execution_count": 26,
   "id": "2de1657f-db9f-4b42-a805-2a6992deac07",
   "metadata": {},
   "outputs": [
    {
     "data": {
      "text/html": [
       "<div>\n",
       "<style scoped>\n",
       "    .dataframe tbody tr th:only-of-type {\n",
       "        vertical-align: middle;\n",
       "    }\n",
       "\n",
       "    .dataframe tbody tr th {\n",
       "        vertical-align: top;\n",
       "    }\n",
       "\n",
       "    .dataframe thead th {\n",
       "        text-align: right;\n",
       "    }\n",
       "</style>\n",
       "<table border=\"1\" class=\"dataframe\">\n",
       "  <thead>\n",
       "    <tr style=\"text-align: right;\">\n",
       "      <th></th>\n",
       "      <th>product</th>\n",
       "      <th>spend</th>\n",
       "    </tr>\n",
       "  </thead>\n",
       "  <tbody>\n",
       "    <tr>\n",
       "      <th>0</th>\n",
       "      <td>Product A</td>\n",
       "      <td>54.967142</td>\n",
       "    </tr>\n",
       "    <tr>\n",
       "      <th>1</th>\n",
       "      <td>Product A</td>\n",
       "      <td>48.617357</td>\n",
       "    </tr>\n",
       "    <tr>\n",
       "      <th>2</th>\n",
       "      <td>Product A</td>\n",
       "      <td>56.476885</td>\n",
       "    </tr>\n",
       "    <tr>\n",
       "      <th>3</th>\n",
       "      <td>Product A</td>\n",
       "      <td>65.230299</td>\n",
       "    </tr>\n",
       "    <tr>\n",
       "      <th>4</th>\n",
       "      <td>Product A</td>\n",
       "      <td>47.658466</td>\n",
       "    </tr>\n",
       "  </tbody>\n",
       "</table>\n",
       "</div>"
      ],
      "text/plain": [
       "     product      spend\n",
       "0  Product A  54.967142\n",
       "1  Product A  48.617357\n",
       "2  Product A  56.476885\n",
       "3  Product A  65.230299\n",
       "4  Product A  47.658466"
      ]
     },
     "execution_count": 26,
     "metadata": {},
     "output_type": "execute_result"
    }
   ],
   "source": [
    "import pandas as pd\n",
    "import numpy as np\n",
    "\n",
    "# Setting random seed for reproducibility\n",
    "np.random.seed(42)\n",
    "\n",
    "# Simulating data for 3 products\n",
    "data = {\n",
    "    'product': ['Product A'] * 100 + ['Product B'] * 100 + ['Product C'] * 100,\n",
    "    'spend': np.concatenate([\n",
    "        np.random.normal(50, 10, 100),  # Product A\n",
    "        np.random.normal(60, 15, 100),  # Product B\n",
    "        np.random.normal(70, 12, 100)   # Product C\n",
    "    ])\n",
    "}\n",
    "\n",
    "# Creating the DataFrame\n",
    "df = pd.DataFrame(data)\n",
    "\n",
    "# Save to CSV\n",
    "df.to_csv('product_spend.csv', index=False)\n",
    "\n",
    "# Show first few rows\n",
    "df.head()"
   ]
  },
  {
   "cell_type": "code",
   "execution_count": 27,
   "id": "013ec1a0-f374-4b1e-becb-bd84fd00aadd",
   "metadata": {},
   "outputs": [
    {
     "data": {
      "text/plain": [
       "3"
      ]
     },
     "execution_count": 27,
     "metadata": {},
     "output_type": "execute_result"
    }
   ],
   "source": [
    "df['product'].nunique()"
   ]
  },
  {
   "cell_type": "code",
   "execution_count": 28,
   "id": "ac7b6877-27c2-4264-95aa-4f35ed757c23",
   "metadata": {},
   "outputs": [
    {
     "data": {
      "text/plain": [
       "array(['Product A', 'Product B', 'Product C'], dtype=object)"
      ]
     },
     "execution_count": 28,
     "metadata": {},
     "output_type": "execute_result"
    }
   ],
   "source": [
    "df['product'].unique()"
   ]
  },
  {
   "cell_type": "code",
   "execution_count": 29,
   "id": "af17ea19-fba9-4ce6-8207-e52d3c1688e0",
   "metadata": {},
   "outputs": [
    {
     "data": {
      "text/plain": [
       "product\n",
       "Product A    100\n",
       "Product B    100\n",
       "Product C    100\n",
       "Name: count, dtype: int64"
      ]
     },
     "execution_count": 29,
     "metadata": {},
     "output_type": "execute_result"
    }
   ],
   "source": [
    "df['product'].value_counts()"
   ]
  },
  {
   "cell_type": "markdown",
   "id": "9e879b00-9e77-4882-ae92-a93962a0b360",
   "metadata": {},
   "source": [
    "# Split data by product group"
   ]
  },
  {
   "cell_type": "code",
   "execution_count": 30,
   "id": "030cf3fd-2392-4001-988c-c67b543ab79d",
   "metadata": {},
   "outputs": [],
   "source": [
    "from scipy.stats import f_oneway\n",
    "\n",
    "# Separate spend data by group\n",
    "product_A = df[df['product'] == 'Product A']['spend']\n",
    "product_B = df[df['product'] == 'Product B']['spend']\n",
    "product_C = df[df['product'] == 'Product C']['spend']\n"
   ]
  },
  {
   "cell_type": "code",
   "execution_count": 31,
   "id": "2764490a-45cc-4dd5-b7fa-87fd421024e4",
   "metadata": {},
   "outputs": [
    {
     "data": {
      "text/plain": [
       "0     54.967142\n",
       "1     48.617357\n",
       "2     56.476885\n",
       "3     65.230299\n",
       "4     47.658466\n",
       "        ...    \n",
       "95    35.364851\n",
       "96    52.961203\n",
       "97    52.610553\n",
       "98    50.051135\n",
       "99    47.654129\n",
       "Name: spend, Length: 100, dtype: float64"
      ]
     },
     "execution_count": 31,
     "metadata": {},
     "output_type": "execute_result"
    }
   ],
   "source": [
    "product_A"
   ]
  },
  {
   "cell_type": "code",
   "execution_count": 32,
   "id": "24b46172-3c6b-4e14-b069-f18c040f9877",
   "metadata": {},
   "outputs": [
    {
     "data": {
      "text/plain": [
       "100    38.769439\n",
       "101    53.690320\n",
       "102    54.859282\n",
       "103    47.965841\n",
       "104    57.580714\n",
       "         ...    \n",
       "195    65.779761\n",
       "196    46.742138\n",
       "197    62.305877\n",
       "198    60.873131\n",
       "199    42.855446\n",
       "Name: spend, Length: 100, dtype: float64"
      ]
     },
     "execution_count": 32,
     "metadata": {},
     "output_type": "execute_result"
    }
   ],
   "source": [
    "product_B"
   ]
  },
  {
   "cell_type": "code",
   "execution_count": 33,
   "id": "2637f47b-ed9c-4a9f-a5ef-58f5b5a13ceb",
   "metadata": {},
   "outputs": [
    {
     "data": {
      "text/plain": [
       "200    74.293448\n",
       "201    76.729414\n",
       "202    82.996615\n",
       "203    82.645625\n",
       "204    53.467968\n",
       "         ...    \n",
       "295    61.685085\n",
       "296    80.795199\n",
       "297    73.687594\n",
       "298    79.754345\n",
       "299    77.555546\n",
       "Name: spend, Length: 100, dtype: float64"
      ]
     },
     "execution_count": 33,
     "metadata": {},
     "output_type": "execute_result"
    }
   ],
   "source": [
    "product_C"
   ]
  },
  {
   "cell_type": "code",
   "execution_count": 34,
   "id": "829baf7f-9683-49ea-9e53-42500d24b80a",
   "metadata": {},
   "outputs": [
    {
     "name": "stdout",
     "output_type": "stream",
     "text": [
      "     Product  Count  Average Spend    Std Dev\n",
      "0  Product A    100      48.961535   9.081684\n",
      "1  Product B    100      60.334569  14.305034\n",
      "2  Product C    100      70.778755  13.011395\n"
     ]
    }
   ],
   "source": [
    "# Group data by product and summarize spend\n",
    "group_summary = df.groupby('product')['spend'].agg(['count', 'mean', 'std']).reset_index()\n",
    "group_summary.columns = ['Product', 'Count', 'Average Spend', 'Std Dev']\n",
    "\n",
    "# Print it nicely\n",
    "print(group_summary)\n"
   ]
  },
  {
   "cell_type": "code",
   "execution_count": 35,
   "id": "2187b402-1c19-4ef8-b1e0-fed821e90cf7",
   "metadata": {},
   "outputs": [
    {
     "name": "stdout",
     "output_type": "stream",
     "text": [
      "F-statistic: 78.2654\n",
      "P-value: 0.0\n"
     ]
    }
   ],
   "source": [
    "# Run ANOVA\n",
    "f_stat, p_value = f_oneway(product_A, product_B, product_C)\n",
    "\n",
    "print(\"F-statistic:\", round(f_stat, 4))\n",
    "print(\"P-value:\", round(p_value, 4))"
   ]
  },
  {
   "cell_type": "code",
   "execution_count": 36,
   "id": "57f4ab69-32e4-423f-bc49-dd6182fd662b",
   "metadata": {},
   "outputs": [
    {
     "data": {
      "image/png": "[encoded data removed]",
      "text/plain": [
       "<Figure size 1000x600 with 1 Axes>"
      ]
     },
     "metadata": {},
     "output_type": "display_data"
    }
   ],
   "source": [
    "import matplotlib.pyplot as plt\n",
    "import seaborn as sns\n",
    "from matplotlib.lines import Line2D\n",
    "\n",
    "# Set style\n",
    "sns.set(style=\"whitegrid\")\n",
    "\n",
    "# Plot with hue fix\n",
    "plt.figure(figsize=(10, 6))\n",
    "ax = sns.boxplot(\n",
    "    x='product',\n",
    "    y='spend',\n",
    "    hue='product',\n",
    "    data=df,\n",
    "    palette='Set2',\n",
    "    showmeans=True,\n",
    "    legend=False,\n",
    "    meanprops={\"marker\": \"o\", \"markerfacecolor\": \"red\", \"markeredgecolor\": \"black\"}\n",
    ")\n",
    "\n",
    "# Labels and title\n",
    "plt.title('Customer Spend Distribution by Product', fontsize=16)\n",
    "plt.xlabel('Product Group', fontsize=12)\n",
    "plt.ylabel('Spend Amount (USD)', fontsize=12)\n",
    "plt.grid(axis='y', linestyle='--', alpha=0.7)\n",
    "\n",
    "# Custom legend\n",
    "legend_elements = [\n",
    "    Line2D([0], [0], color='black', lw=1, label='50% Median (middle line)'),\n",
    "    Line2D([0], [0], marker='o', color='w', label='Mean (average)', \n",
    "           markerfacecolor='red', markeredgecolor='black', markersize=8),\n",
    "    Line2D([0], [0], marker='o', color='w', label='Outlier',\n",
    "           markerfacecolor='black', markeredgecolor='black', markersize=5)\n",
    "]\n",
    "plt.legend(handles=legend_elements, title='Legend', loc='upper left')\n",
    "\n",
    "# Show plot\n",
    "plt.tight_layout()\n",
    "plt.show()\n"
   ]
  },
  {
   "cell_type": "markdown",
   "id": "1a8619eb-6ef5-4595-aad7-e0d2b8deed61",
   "metadata": {},
   "source": [
    "# Chart Title:"
   ]
  },
  {
   "cell_type": "raw",
   "id": "17d2d2e4-f4e5-4952-8fbc-78820eb48c77",
   "metadata": {},
   "source": [
    "Customer Spend Distribution by Product\n",
    "\n",
    "This box plot shows how much customers are spending on each of the three products — A, B, and C.\n",
    "I am analyzing the distribution, center, and variation of spend across these groups.\n",
    "\n",
    " Key Insights from the Box Plot:\n",
    "1. Median (Black Line in Each Box)\n",
    "Product A: Lowest median spend\n",
    "\n",
    "Product B: Higher than A\n",
    "\n",
    "Product C: Highest median spend\n",
    "\n",
    "✅ The median spend increases from A → B → C.\n",
    "\n",
    "2. Mean (Red Dot)\n",
    "The mean is close to the median in each group — suggesting no strong skew.\n",
    "\n",
    "Product C’s mean is higher than Product A and B, reinforcing the trend.\n",
    "\n",
    "\n",
    "3. Spread (Size of Each Box + Whiskers)\n",
    "Product A: Smallest spread — spending is more consistent.\n",
    "\n",
    "Product B: Wider spread — more variability in how much customers spend.\n",
    "\n",
    "Product C: Moderate spread but higher overall values.  \n",
    "\n",
    "A wide box means customers are spending in a wide range — this could mean inconsistent behavior or appeal.\n",
    "\n",
    " 4. Outliers (Black Dots)\n",
    "All three products have a few outliers, especially Product C.\n",
    "\n",
    "These represent unusually high or low spenders — could be loyal high-value customers or anomalies.\n",
    " "
   ]
  },
  {
   "cell_type": "markdown",
   "id": "a63721c9-798f-4a45-b986-ccd005677efe",
   "metadata": {},
   "source": [
    "# ✅  Interpret the Result"
   ]
  },
  {
   "cell_type": "raw",
   "id": "e59554c9-8257-4b1f-a488-831f62f607af",
   "metadata": {},
   "source": [
    "Now, I the p-value to determine statistical significance:\n",
    "\n",
    "P-value\tInterpretation\n",
    "< 0.05\t✅ Statistically significant difference between at least one group\n",
    "≥ 0.05\t❌ No statistically significant difference"
   ]
  },
  {
   "cell_type": "markdown",
   "id": "1fe565cf-7db4-492b-8bdd-67172a1d3530",
   "metadata": {},
   "source": [
    "# ✅ Overall Interpretation (Ready for  manager/report)"
   ]
  },
  {
   "cell_type": "raw",
   "id": "8260b6fa-7f66-46af-b538-917982639989",
   "metadata": {},
   "source": [
    "The analysis shows that Product C has the highest customer spend, both in terms of median and average.\n",
    "However, it also has more outliers, suggesting some customers are spending significantly more than others.\n",
    "Product A has the most consistent spend behavior, but at a lower level.\n",
    "Based on this chart, Product C appears to be the top performer in terms of customer spending, followed by B, then A."
   ]
  },
  {
   "cell_type": "code",
   "execution_count": null,
   "id": "7a29979d-a48e-441e-93d4-a0cf090838f1",
   "metadata": {},
   "outputs": [],
   "source": []
  }
 ],
 "metadata": {
  "kernelspec": {
   "display_name": "Python 3 (ipykernel)",
   "language": "python",
   "name": "python3"
  },
  "language_info": {
   "codemirror_mode": {
    "name": "ipython",
    "version": 3
   },
   "file_extension": ".py",
   "mimetype": "text/x-python",
   "name": "python",
   "nbconvert_exporter": "python",
   "pygments_lexer": "ipython3",
   "version": "3.12.4"
  }
 },
 "nbformat": 4,
 "nbformat_minor": 5
}
